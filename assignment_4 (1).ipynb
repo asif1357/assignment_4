{
 "cells": [
  {
   "cell_type": "markdown",
   "id": "bd1acf1a",
   "metadata": {},
   "source": [
    "# Assignment 4\n",
    "1. [] is used to define a list and also for accessing the element through the index number\n",
    "2. For third value spam[2]='hello'\n",
    "3. 'd'\n",
    "4. 'd'\n",
    "5. ['a','b',]\n",
    "6. 1\n",
    "7. ['a','b','c','d',99]\n",
    "8. bacon.remove('cat') will remove first occurance of 'cat'\n",
    "9. we can use '+' oprator to concatenate lists and '=' operator for replication\n",
    "10. append adds the specific element at end of list while insert method add the specific element at desired index location \n",
    "11. pop and remove\n",
    "12. Both are iterable and have indexes\n",
    "13. lists  --mutable  ,support list comprehension  ,more memory\n",
    "     tuples --immutable,doesnt support comprehension,less memory\n",
    "14. t=(42,)\n",
    "15. By using typecast functions i.e. list() and tuple()\n",
    "16. tuple\n",
    "17. copy.copy refers to shallow copy which creates a copy of object but references each element of the object however          copy.deepcopy refers to deep copy which creates a copy of object elements of object "
   ]
  }
 ],
 "metadata": {
  "kernelspec": {
   "display_name": "Python 3 (ipykernel)",
   "language": "python",
   "name": "python3"
  },
  "language_info": {
   "codemirror_mode": {
    "name": "ipython",
    "version": 3
   },
   "file_extension": ".py",
   "mimetype": "text/x-python",
   "name": "python",
   "nbconvert_exporter": "python",
   "pygments_lexer": "ipython3",
   "version": "3.9.12"
  }
 },
 "nbformat": 4,
 "nbformat_minor": 5
}
